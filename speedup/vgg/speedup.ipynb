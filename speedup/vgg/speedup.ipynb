{
 "cells": [
  {
   "cell_type": "code",
   "execution_count": 14,
   "metadata": {},
   "outputs": [],
   "source": [
    "# speedup of resnet\n",
    "import pandas as pd\n",
    "\n",
    "path_ecr = \"singleECR.txt\"\n",
    "path_pecr = \"batchedECR.txt\"\n",
    "\n",
    "time_ecr = pd.read_csv(path_ecr, header = None, dtype = float)\n",
    "time_pecr = pd.read_csv(path_pecr, header = None, dtype = float)\n",
    "\n",
    "time_ocpa_ecr = []\n",
    "time_ocpa_pecr = []\n",
    "for i in range(0, 16):\n",
    "    time_ocpa_ecr.append(time_ecr.iat[i, 0])\n",
    "for i in range(0,16):\n",
    "    time_ocpa_pecr.append(time_pecr.iat[i, 0])"
   ]
  },
  {
   "cell_type": "code",
   "execution_count": 15,
   "metadata": {},
   "outputs": [
    {
     "name": "stdout",
     "output_type": "stream",
     "text": [
      "CUDNN GEMM\n",
      "[0.638496, 0.65792, 0.540864, 0.536704, 0.538976, 0.592352, 0.538432, 0.552, 0.526624, 0.52384, 0.538048, 0.50368, 0.541984, 0.505568, 0.517024, 0.510496]\n",
      "CUDNN IMPLICIT GEMM\n",
      "[0.743232, 0.668064, 0.547104, 0.550016, 0.567904, 0.50064, 0.560448, 0.712832, 0.512192, 0.55264, 0.522688, 0.528704, 0.52896, 0.72224, 0.524544, 0.529728]\n",
      "CUDNN FFT\n",
      "[1.4609, 1.4679, 0.763808, 0.745088, 0.627584, 0.587456, 0.584064, 0.5936, 0.557632, 0.634592, 0.885152, 0.554272, 0.57088, 0.56496, 0.540864, 0.543488]\n"
     ]
    }
   ],
   "source": [
    "path_cu_gemm = \"cuDNN_gemm.txt\"\n",
    "path_cu_imp = \"cuDNN_imp_gemm.txt\"\n",
    "path_cu_fft = \"cuDNN_fft.txt\"\n",
    "\n",
    "time_gemm = pd.read_csv(path_cu_gemm, header=None, dtype=float)\n",
    "time_imp = pd.read_csv(path_cu_imp, header=None, dtype=float)\n",
    "time_fft = pd.read_csv(path_cu_fft, header=None, dtype=float)\n",
    "\n",
    "time_cudnn_gemm = []\n",
    "time_cudnn_imp = []\n",
    "time_cudnn_fft = []\n",
    "\n",
    "for i in range(0, 16):\n",
    "    time_cudnn_gemm.append(time_gemm.iat[i, 0])\n",
    "for i in range(0, 16):\n",
    "    time_cudnn_imp.append(time_imp.iat[i, 0])\n",
    "for i in range(0, 16):\n",
    "    time_cudnn_fft.append(time_fft.iat[i, 0])\n",
    "\n",
    "\n",
    "print(\"CUDNN GEMM\")\n",
    "print(time_cudnn_gemm)\n",
    "print(\"CUDNN IMPLICIT GEMM\")\n",
    "print(time_cudnn_imp)\n",
    "print(\"CUDNN FFT\")\n",
    "print(time_cudnn_fft)"
   ]
  },
  {
   "cell_type": "code",
   "execution_count": 16,
   "metadata": {},
   "outputs": [
    {
     "name": "stdout",
     "output_type": "stream",
     "text": [
      "SPEED UP VALUES OF ECR OVER CUDNN GEMM\n",
      "[2.2268973214285714, 2.0539460539460537, 2.454189051836794, 2.675386824054873, 3.083104521325279, 3.482129420617005, 2.972791519434629, 3.2176832680470064, 2.375433025404157, 3.159621694653542, 3.3494023904382466, 3.1033123028391167, 3.3518701761329903, 3.070151574038088, 3.2153233830845775, 3.1286526769954888]\n",
      "SPEED UP VALUES OF ECR OVER CUDNN IMPLICIT GEMM\n",
      "[2.5921875, 2.085614385614386, 2.4825032670248297, 2.741745094911469, 3.2485813655500637, 2.943002257336343, 3.0943462897526497, 4.155194926319717, 2.310334872979215, 3.3333333333333335, 3.253784860557769, 3.2574921135646684, 3.271323965960815, 4.385930820054411, 3.2620895522388063, 3.2465189252794664]\n",
      "SPEED UP VALUES OF ECR OVER CUDNN FFT\n",
      "[5.095214843750001, 4.582604895104895, 3.4658051401190653, 3.7141489870792785, 3.5899688815669046, 3.4533483822422872, 3.2247349823321554, 3.460175340421563, 2.5153002309468824, 3.827639451843274, 5.510159362549801, 3.4150236593059935, 3.5305758955076194, 3.430820054411193, 3.363582089552239, 3.330849186114924]\n",
      "SPEED UP VALUES OF PECR OVER CUDNN GEMM\n",
      "[2.1598830915782634, 2.145465929249713, 2.0713235294117647, 2.697764194949332, 3.1324158452668778, 3.3680858806404657, 2.690868383176076, 3.2485875706214693, 3.3039550291106203, 2.816101840701875, 2.473010736873069, 3.2333607230895645, 3.4216161616161616, 3.176316847607559, 3.210850556438792, 3.253058727569331]\n",
      "SPEED UP VALUES OF PECR OVER CUDNN IMPLICIT GEMM\n",
      "[2.5141805585624595, 2.178545340707503, 2.095220588235294, 2.7646774971851373, 3.3005393342012272, 2.8466157205240172, 2.800895570126339, 4.195103578154426, 3.213410961654286, 2.9709272320660594, 2.4024121194293278, 3.3940016433853737, 3.339393939393939, 4.537595496582227, 3.257551669316375, 3.375611745513866]\n",
      "SPEED UP VALUES OF PECR OVER CUDNN FFT\n",
      "[4.9418840658151115, 4.786796932067203, 2.925122549019608, 3.7452147337944344, 3.6473870187837085, 3.3402474526928674, 2.9189189189189193, 3.4934086629001886, 3.498494278257378, 3.4114914846034754, 4.068392410648625, 3.5581347576006572, 3.604040404040404, 3.5494571773220747, 3.3589030206677264, 3.4632952691680257]\n"
     ]
    }
   ],
   "source": [
    "times_cudnn_gemm_vs_ecr = []\n",
    "times_cudnn_imp_vs_ecr = []\n",
    "times_cudnn_fft_vs_ecr = []\n",
    "\n",
    "times_cudnn_gemm_vs_pecr = []\n",
    "times_cudnn_imp_vs_pecr = []\n",
    "times_cudnn_fft_vs_pecr = []\n",
    "\n",
    "for i in range(0, 16):\n",
    "    times_cudnn_gemm_vs_ecr.append(time_cudnn_gemm[i]/time_ocpa_ecr[i])\n",
    "    times_cudnn_gemm_vs_pecr.append(time_cudnn_gemm[i]/time_ocpa_pecr[i])\n",
    "\n",
    "for i in range(0,16):\n",
    "    times_cudnn_imp_vs_ecr.append(time_cudnn_imp[i]/time_ocpa_ecr[i])\n",
    "    times_cudnn_imp_vs_pecr.append(time_cudnn_imp[i]/time_ocpa_pecr[i])\n",
    "\n",
    "for i in range(0, 16):\n",
    "    times_cudnn_fft_vs_ecr.append(time_cudnn_fft[i]/time_ocpa_ecr[i])\n",
    "    times_cudnn_fft_vs_pecr.append(time_cudnn_fft[i]/time_ocpa_pecr[i])\n",
    "\n",
    "print(\"SPEED UP VALUES OF ECR OVER CUDNN GEMM\")\n",
    "print(times_cudnn_gemm_vs_ecr)\n",
    "print(\"SPEED UP VALUES OF ECR OVER CUDNN IMPLICIT GEMM\")\n",
    "print(times_cudnn_imp_vs_ecr)\n",
    "print(\"SPEED UP VALUES OF ECR OVER CUDNN FFT\")\n",
    "print(times_cudnn_fft_vs_ecr)\n",
    "\n",
    "print(\"SPEED UP VALUES OF PECR OVER CUDNN GEMM\")\n",
    "print(times_cudnn_gemm_vs_pecr)\n",
    "print(\"SPEED UP VALUES OF PECR OVER CUDNN IMPLICIT GEMM\")\n",
    "print(times_cudnn_imp_vs_pecr)\n",
    "print(\"SPEED UP VALUES OF PECR OVER CUDNN FFT\")\n",
    "print(times_cudnn_fft_vs_pecr)"
   ]
  }
 ],
 "metadata": {
  "kernelspec": {
   "display_name": "Python 3.8.8 ('character-bert')",
   "language": "python",
   "name": "python3"
  },
  "language_info": {
   "codemirror_mode": {
    "name": "ipython",
    "version": 3
   },
   "file_extension": ".py",
   "mimetype": "text/x-python",
   "name": "python",
   "nbconvert_exporter": "python",
   "pygments_lexer": "ipython3",
   "version": "3.10.12"
  },
  "orig_nbformat": 4,
  "vscode": {
   "interpreter": {
    "hash": "3baf29512fa2210333a43a360ab6f7ac5e411fb4dc25915bce2dc40513c23ea2"
   }
  }
 },
 "nbformat": 4,
 "nbformat_minor": 2
}
