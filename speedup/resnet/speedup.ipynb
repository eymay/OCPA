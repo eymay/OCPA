{
 "cells": [
  {
   "cell_type": "code",
   "execution_count": 1,
   "metadata": {},
   "outputs": [],
   "source": [
    "# speedup of resnet\n",
    "import pandas as pd\n",
    "\n",
    "path_ecr = \"../../ECR/ECR/time_resnet/batchsize32.txt\"\n",
    "path_pecr = \"../../PECR/pecr/time_resnet/batchsize32.txt\"\n",
    "\n",
    "time_ecr = pd.read_csv(path_ecr, header = None, dtype = float)\n",
    "time_pecr = pd.read_csv(path_pecr, header = None, dtype = float)\n",
    "\n",
    "# print(\"ecr:\",time_ecr)\n",
    "# print(\"pecr:\",time_pecr)\n",
    "\n",
    "time_ocpa = []\n",
    "time_ocpa.append(time_pecr.iat[0, 0])\n",
    "for i in range(0, 47):\n",
    "    time_ocpa.append(time_ecr.iat[i, 0])\n",
    "time_ocpa.append(time_pecr.iat[1, 0])\n",
    "\n",
    "# print(len(time_ocpa))"
   ]
  },
  {
   "cell_type": "code",
   "execution_count": 2,
   "metadata": {},
   "outputs": [],
   "source": [
    "import time\n",
    "from tkinter.messagebox import NO\n",
    "\n",
    "\n",
    "path_tc_c = \"../../ECR/cudnn/time_resnet/batchsize32.txt\"\n",
    "#path_tc_p = \"../../PECR/cudnn/time_resnet/batchsize32.txt\"\n",
    "\n",
    "time_c = pd.read_csv(path_tc_c, header=None, dtype=float)\n",
    "#time_p = pd.read_csv(path_tc_p, header=None, dtype=float)\n",
    "\n",
    "time_cudnn = []\n",
    "time_cudnn.append(time_p.iat[0, 0])\n",
    "for i in range(0, 47):\n",
    "    time_cudnn.append(time_c.iat[i, 0])\n",
    "#time_cudnn.append(time_p.iat[1, 0])\n",
    "\n",
    "# print(time_cudnn)"
   ]
  },
  {
   "cell_type": "code",
   "execution_count": 3,
   "metadata": {},
   "outputs": [
    {
     "name": "stdout",
     "output_type": "stream",
     "text": [
      "[3.827434671670539, 2.1271834813316577, 1.8828789867175697, 1.9668383995929295, 1.875617612917981, 1.8380879034148956, 1.8501898483752068, 1.9201142861416434, 1.8843085330679574, 1.915548507636777, 1.9333653900303673, 1.9618516648448308, 3.3101850764635157, 2.987519475176808, 3.0769143196662303, 3.1741585823050205, 3.173781277637327, 3.0911782246635156, 3.1613240972115717, 3.219309346076183, 3.1349532808610467, 3.1787179712258715, 3.320481352892486, 3.210745592534493, 4.3059057378089, 4.018071177611594, 4.100340817963112, 4.2685370980462, 4.192361938193444, 4.106366669950254, 4.151387496867954, 4.182370354608153, 4.119969436514832, 4.233470160732138, 4.181746634482063, 4.06492848684454, 4.540640599515642, 4.232261889118515, 4.141593151088317, 4.107384523736788, 3.9712847033206318, 4.0251476666829715, 4.635077090970142, 4.618904615077156, 4.6299269920443615, 4.651726212848387, 4.635799203844498, 4.557803193511595, 12.61001444080559]\n"
     ]
    }
   ],
   "source": [
    "times = []\n",
    "for i in range(0, 49):\n",
    "    times.append(time_cudnn[i]/time_ocpa[i])\n",
    "print(times)"
   ]
  }
 ],
 "metadata": {
  "kernelspec": {
   "display_name": "Python 3.8.8 ('character-bert')",
   "language": "python",
   "name": "python3"
  },
  "language_info": {
   "codemirror_mode": {
    "name": "ipython",
    "version": 3
   },
   "file_extension": ".py",
   "mimetype": "text/x-python",
   "name": "python",
   "nbconvert_exporter": "python",
   "pygments_lexer": "ipython3",
   "version": "3.8.8"
  },
  "orig_nbformat": 4,
  "vscode": {
   "interpreter": {
    "hash": "3baf29512fa2210333a43a360ab6f7ac5e411fb4dc25915bce2dc40513c23ea2"
   }
  }
 },
 "nbformat": 4,
 "nbformat_minor": 2
}
